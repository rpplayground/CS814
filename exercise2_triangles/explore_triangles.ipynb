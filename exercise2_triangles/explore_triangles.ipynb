{
  "cells": [
    {
      "metadata": {},
      "cell_type": "markdown",
      "source": "# CS814 - Artificial Intelligence For Autonomous Systems\n## Lab 1 - Part 2 - The Triangle Challenge\n\nFirst import the libabry of functions that have been written to complete the challenge."
    },
    {
      "metadata": {
        "trusted": true
      },
      "cell_type": "code",
      "source": "import triangle_functions",
      "execution_count": 30,
      "outputs": []
    },
    {
      "metadata": {},
      "cell_type": "markdown",
      "source": "### Load and visualise file\nNow load the the first simple triangle from file and visualise it."
    },
    {
      "metadata": {
        "trusted": true
      },
      "cell_type": "code",
      "source": "triangle_list_from_file = triangle_functions.read_triangle_from_file(\"/home/nbuser/library/exercise2_triangles/\", \"triangle_numbers_1.txt\")",
      "execution_count": 31,
      "outputs": []
    },
    {
      "metadata": {
        "trusted": true
      },
      "cell_type": "code",
      "source": "triangle_functions.print_triangle(triangle_list_from_file, False, False)",
      "execution_count": 32,
      "outputs": [
        {
          "output_type": "stream",
          "text": "Maximum value found: 99  depth:  15\n                            75  \n                          95  64  \n                        17  47  82  \n                      18  35  87  10  \n                    20  04  82  47  65  \n                  19  01  23  75  03  34  \n                88  02  77  73  07  63  67  \n              99  65  04  28  06  16  70  92  \n            41  41  26  56  83  40  80  70  33  \n          41  48  72  33  47  32  37  16  94  29  \n        53  71  44  65  25  43  91  52  97  51  14  \n      70  11  33  28  77  73  17  78  39  68  17  57  \n    91  71  52  38  17  14  91  43  58  50  27  29  48  \n  63  66  04  68  89  53  67  30  73  16  69  87  40  31  \n04  62  98  27  23  09  70  98  73  93  38  53  60  04  23  \n",
          "name": "stdout"
        }
      ]
    },
    {
      "metadata": {},
      "cell_type": "markdown",
      "source": "### Generate the solution\nRun the function to find the solition and visualise the intermediate results."
    },
    {
      "metadata": {
        "trusted": true
      },
      "cell_type": "code",
      "source": "rolled_up_sum_triangle, solution_triangle, max_sum = triangle_functions.roll_up_triangle_from_bottom(triangle_list_from_file)",
      "execution_count": 33,
      "outputs": []
    },
    {
      "metadata": {
        "trusted": true
      },
      "cell_type": "code",
      "source": "triangle_functions.print_triangle(rolled_up_sum_triangle, False, False)",
      "execution_count": 34,
      "outputs": [
        {
          "output_type": "stream",
          "text": "Maximum value found: 1074  depth:  15\n                                          1074  \n                                       0995  0999  \n                                    0818  0900  0935  \n                                 0704  0801  0853  0792  \n                              0686  0640  0766  0731  0782  \n                           0666  0614  0636  0684  0660  0717  \n                        0647  0501  0613  0609  0533  0657  0683  \n                     0559  0499  0479  0536  0514  0526  0594  0616  \n                  0460  0434  0419  0475  0508  0470  0510  0524  0487  \n               0419  0365  0393  0387  0419  0425  0430  0376  0454  0322  \n            0378  0317  0231  0321  0354  0372  0393  0354  0360  0293  0247  \n         0325  0246  0187  0178  0256  0329  0273  0302  0263  0242  0193  0233  \n      0255  0235  0154  0150  0140  0179  0256  0209  0224  0172  0174  0176  0148  \n   0125  0164  0102  0095  0112  0123  0165  0128  0166  0109  0122  0147  0100  0054  \n0004  0062  0098  0027  0023  0009  0070  0098  0073  0093  0038  0053  0060  0004  0023  \n",
          "name": "stdout"
        }
      ]
    },
    {
      "metadata": {
        "trusted": true
      },
      "cell_type": "code",
      "source": "triangle_functions.print_triangle(solution_triangle, False, False)",
      "execution_count": 35,
      "outputs": [
        {
          "output_type": "stream",
          "text": "Maximum value found: 14  depth:  15\n                            01  \n                          01  02  \n                        01  02  02  \n                      00  02  02  04  \n                    00  02  03  03  05  \n                  00  02  02  03  05  06  \n                00  01  03  03  05  06  07  \n              00  01  03  04  04  06  07  07  \n            00  02  02  04  05  06  06  08  08  \n          00  01  03  04  05  06  06  08  08  09  \n        00  01  02  04  05  05  07  07  08  09  11  \n      00  01  02  03  05  06  06  08  08  10  11  11  \n    01  01  02  04  05  06  06  08  08  10  11  11  12  \n  01  02  02  03  04  06  07  07  09  09  11  12  12  14  \n00  00  00  00  00  00  00  00  00  00  00  00  00  00  00  \n",
          "name": "stdout"
        }
      ]
    },
    {
      "metadata": {},
      "cell_type": "markdown",
      "source": "### Now solve the pathway\nUse the \"solution_triangle\" above to solve the path through the triangle.  This is displayed in both triangular form and as a listed step wise solution."
    },
    {
      "metadata": {
        "trusted": true
      },
      "cell_type": "code",
      "source": "solution_path, source_triangle_masked = triangle_functions.build_solution(triangle_list_from_file, solution_triangle)",
      "execution_count": 36,
      "outputs": []
    },
    {
      "metadata": {
        "trusted": true
      },
      "cell_type": "code",
      "source": "triangle_functions.print_triangle(source_triangle_masked, False, True)",
      "execution_count": 37,
      "outputs": [
        {
          "output_type": "stream",
          "text": "Maximum value found: 93  depth:  15\n                            75  \n                          []  64  \n                        []  []  82  \n                      []  []  87  []  \n                    []  []  82  []  []  \n                  []  []  []  75  []  []  \n                []  []  []  73  []  []  []  \n              []  []  []  28  []  []  []  []  \n            []  []  []  []  83  []  []  []  []  \n          []  []  []  []  []  32  []  []  []  []  \n        []  []  []  []  []  []  91  []  []  []  []  \n      []  []  []  []  []  []  []  78  []  []  []  []  \n    []  []  []  []  []  []  []  []  58  []  []  []  []  \n  []  []  []  []  []  []  []  []  73  []  []  []  []  []  \n[]  []  []  []  []  []  []  []  []  93  []  []  []  []  []  \n",
          "name": "stdout"
        }
      ]
    },
    {
      "metadata": {
        "trusted": true
      },
      "cell_type": "code",
      "source": "solution_path",
      "execution_count": 38,
      "outputs": [
        {
          "output_type": "execute_result",
          "execution_count": 38,
          "data": {
            "text/plain": "[{'row': 1, 'element': 1, 'value': 75, 'rolling_sum': 75},\n {'row': 2, 'element': 2, 'value': 64, 'rolling_sum': 139},\n {'row': 3, 'element': 3, 'value': 82, 'rolling_sum': 221},\n {'row': 4, 'element': 3, 'value': 87, 'rolling_sum': 308},\n {'row': 5, 'element': 3, 'value': 82, 'rolling_sum': 390},\n {'row': 6, 'element': 4, 'value': 75, 'rolling_sum': 465},\n {'row': 7, 'element': 4, 'value': 73, 'rolling_sum': 538},\n {'row': 8, 'element': 4, 'value': 28, 'rolling_sum': 566},\n {'row': 9, 'element': 5, 'value': 83, 'rolling_sum': 649},\n {'row': 10, 'element': 6, 'value': 32, 'rolling_sum': 681},\n {'row': 11, 'element': 7, 'value': 91, 'rolling_sum': 772},\n {'row': 12, 'element': 8, 'value': 78, 'rolling_sum': 850},\n {'row': 13, 'element': 9, 'value': 58, 'rolling_sum': 908},\n {'row': 14, 'element': 9, 'value': 73, 'rolling_sum': 981},\n {'row': 15, 'element': 10, 'value': 93, 'rolling_sum': 1074}]"
          },
          "metadata": {}
        }
      ]
    },
    {
      "metadata": {},
      "cell_type": "markdown",
      "source": "## Now repeat for large triangle\n### Load and visualise file\nNow load the the first simple triangle from file and visualise it."
    },
    {
      "metadata": {
        "trusted": true
      },
      "cell_type": "code",
      "source": "triangle_list_from_file = triangle_functions.read_triangle_from_file(\"/home/nbuser/library/exercise2_triangles/\", \"triangle_numbers_2.txt\")",
      "execution_count": 43,
      "outputs": []
    },
    {
      "metadata": {},
      "cell_type": "markdown",
      "source": "### Generate the solution\nRun the function to find the solition and visualise the intermediate results."
    },
    {
      "metadata": {
        "trusted": true
      },
      "cell_type": "code",
      "source": "rolled_up_sum_triangle, solution_triangle, max_sum = triangle_functions.roll_up_triangle_from_bottom(triangle_list_from_file)",
      "execution_count": 44,
      "outputs": []
    },
    {
      "metadata": {},
      "cell_type": "markdown",
      "source": "### Now solve the pathway\nUse the \"solution_triangle\" above to solve the path through the triangle.  This is displayed in both triangular form and as a listed step wise solution."
    },
    {
      "metadata": {
        "trusted": true
      },
      "cell_type": "code",
      "source": "solution_path, source_triangle_masked = triangle_functions.build_solution(triangle_list_from_file, solution_triangle)",
      "execution_count": 45,
      "outputs": []
    },
    {
      "metadata": {
        "trusted": true
      },
      "cell_type": "code",
      "source": "triangle_functions.print_triangle(source_triangle_masked, True, True)",
      "execution_count": 46,
      "outputs": [
        {
          "output_type": "stream",
          "text": "Maximum value found: 99  depth:  100\n                                                  X\n                                                 X.\n                                                 X..\n                                                .X..\n                                                ..X..\n                                               ...X..\n                                               ....X..\n                                              ....X...\n                                              .....X...\n                                             .....X....\n                                             ......X....\n                                            ......X.....\n                                            .......X.....\n                                           ........X.....\n                                           .........X.....\n                                          ..........X.....\n                                          ...........X.....\n                                         ............X.....\n                                         ............X......\n                                        ............X.......\n                                        .............X.......\n                                       .............X........\n                                       .............X.........\n                                      ..............X.........\n                                      ..............X..........\n                                     ...............X..........\n                                     ...............X...........\n                                    ................X...........\n                                    .................X...........\n                                   .................X............\n                                   .................X.............\n                                  ..................X.............\n                                  ...................X.............\n                                 ....................X.............\n                                 .....................X.............\n                                ......................X.............\n                                .......................X.............\n                               ........................X.............\n                               .........................X.............\n                              .........................X..............\n                              .........................X...............\n                             ..........................X...............\n                             ...........................X...............\n                            ...........................X................\n                            ............................X................\n                           .............................X................\n                           ..............................X................\n                          ...............................X................\n                          ................................X................\n                         ................................X.................\n                         ................................X..................\n                        ................................X...................\n                        .................................X...................\n                       .................................X....................\n                       ..................................X....................\n                      ...................................X....................\n                      ...................................X.....................\n                     ...................................X......................\n                     ...................................X.......................\n                    ...................................X........................\n                    ....................................X........................\n                   ....................................X.........................\n                   ....................................X..........................\n                  .....................................X..........................\n                  ......................................X..........................\n                 .......................................X..........................\n                 ........................................X..........................\n                .........................................X..........................\n                .........................................X...........................\n               ..........................................X...........................\n               ..........................................X............................\n              ..........................................X.............................\n              ..........................................X..............................\n             ..........................................X...............................\n             ..........................................X................................\n            ..........................................X.................................\n            ...........................................X.................................\n           ...........................................X..................................\n           ...........................................X...................................\n          ............................................X...................................\n          .............................................X...................................\n         .............................................X....................................\n         .............................................X.....................................\n        .............................................X......................................\n        .............................................X.......................................\n       .............................................X........................................\n       ..............................................X........................................\n      ..............................................X.........................................\n      ..............................................X..........................................\n     ..............................................X...........................................\n     ...............................................X...........................................\n    ...............................................X............................................\n    ................................................X............................................\n   .................................................X............................................\n   .................................................X.............................................\n  ..................................................X.............................................\n  ...................................................X.............................................\n ....................................................X.............................................\n ....................................................X..............................................\n.....................................................X..............................................\n",
          "name": "stdout"
        }
      ]
    },
    {
      "metadata": {
        "trusted": true
      },
      "cell_type": "code",
      "source": "solution_path",
      "execution_count": 47,
      "outputs": [
        {
          "output_type": "execute_result",
          "execution_count": 47,
          "data": {
            "text/plain": "[{'row': 1, 'element': 1, 'value': 59, 'rolling_sum': 59},\n {'row': 2, 'element': 1, 'value': 73, 'rolling_sum': 132},\n {'row': 3, 'element': 1, 'value': 52, 'rolling_sum': 184},\n {'row': 4, 'element': 2, 'value': 53, 'rolling_sum': 237},\n {'row': 5, 'element': 3, 'value': 87, 'rolling_sum': 324},\n {'row': 6, 'element': 4, 'value': 57, 'rolling_sum': 381},\n {'row': 7, 'element': 5, 'value': 92, 'rolling_sum': 473},\n {'row': 8, 'element': 5, 'value': 81, 'rolling_sum': 554},\n {'row': 9, 'element': 6, 'value': 81, 'rolling_sum': 635},\n {'row': 10, 'element': 6, 'value': 79, 'rolling_sum': 714},\n {'row': 11, 'element': 7, 'value': 81, 'rolling_sum': 795},\n {'row': 12, 'element': 7, 'value': 32, 'rolling_sum': 827},\n {'row': 13, 'element': 8, 'value': 86, 'rolling_sum': 913},\n {'row': 14, 'element': 9, 'value': 82, 'rolling_sum': 995},\n {'row': 15, 'element': 10, 'value': 97, 'rolling_sum': 1092},\n {'row': 16, 'element': 11, 'value': 55, 'rolling_sum': 1147},\n {'row': 17, 'element': 12, 'value': 97, 'rolling_sum': 1244},\n {'row': 18, 'element': 13, 'value': 36, 'rolling_sum': 1280},\n {'row': 19, 'element': 13, 'value': 62, 'rolling_sum': 1342},\n {'row': 20, 'element': 13, 'value': 65, 'rolling_sum': 1407},\n {'row': 21, 'element': 14, 'value': 90, 'rolling_sum': 1497},\n {'row': 22, 'element': 14, 'value': 93, 'rolling_sum': 1590},\n {'row': 23, 'element': 14, 'value': 95, 'rolling_sum': 1685},\n {'row': 24, 'element': 15, 'value': 54, 'rolling_sum': 1739},\n {'row': 25, 'element': 15, 'value': 71, 'rolling_sum': 1810},\n {'row': 26, 'element': 16, 'value': 77, 'rolling_sum': 1887},\n {'row': 27, 'element': 16, 'value': 68, 'rolling_sum': 1955},\n {'row': 28, 'element': 17, 'value': 71, 'rolling_sum': 2026},\n {'row': 29, 'element': 18, 'value': 94, 'rolling_sum': 2120},\n {'row': 30, 'element': 18, 'value': 8, 'rolling_sum': 2128},\n {'row': 31, 'element': 18, 'value': 89, 'rolling_sum': 2217},\n {'row': 32, 'element': 19, 'value': 54, 'rolling_sum': 2271},\n {'row': 33, 'element': 20, 'value': 42, 'rolling_sum': 2313},\n {'row': 34, 'element': 21, 'value': 90, 'rolling_sum': 2403},\n {'row': 35, 'element': 22, 'value': 84, 'rolling_sum': 2487},\n {'row': 36, 'element': 23, 'value': 91, 'rolling_sum': 2578},\n {'row': 37, 'element': 24, 'value': 31, 'rolling_sum': 2609},\n {'row': 38, 'element': 25, 'value': 71, 'rolling_sum': 2680},\n {'row': 39, 'element': 26, 'value': 93, 'rolling_sum': 2773},\n {'row': 40, 'element': 26, 'value': 94, 'rolling_sum': 2867},\n {'row': 41, 'element': 26, 'value': 53, 'rolling_sum': 2920},\n {'row': 42, 'element': 27, 'value': 69, 'rolling_sum': 2989},\n {'row': 43, 'element': 28, 'value': 73, 'rolling_sum': 3062},\n {'row': 44, 'element': 28, 'value': 99, 'rolling_sum': 3161},\n {'row': 45, 'element': 29, 'value': 89, 'rolling_sum': 3250},\n {'row': 46, 'element': 30, 'value': 47, 'rolling_sum': 3297},\n {'row': 47, 'element': 31, 'value': 80, 'rolling_sum': 3377},\n {'row': 48, 'element': 32, 'value': 96, 'rolling_sum': 3473},\n {'row': 49, 'element': 33, 'value': 81, 'rolling_sum': 3554},\n {'row': 50, 'element': 33, 'value': 52, 'rolling_sum': 3606},\n {'row': 51, 'element': 33, 'value': 98, 'rolling_sum': 3704},\n {'row': 52, 'element': 33, 'value': 38, 'rolling_sum': 3742},\n {'row': 53, 'element': 34, 'value': 91, 'rolling_sum': 3833},\n {'row': 54, 'element': 34, 'value': 78, 'rolling_sum': 3911},\n {'row': 55, 'element': 35, 'value': 90, 'rolling_sum': 4001},\n {'row': 56, 'element': 36, 'value': 70, 'rolling_sum': 4071},\n {'row': 57, 'element': 36, 'value': 7, 'rolling_sum': 4078},\n {'row': 58, 'element': 36, 'value': 18, 'rolling_sum': 4096},\n {'row': 59, 'element': 36, 'value': 55, 'rolling_sum': 4151},\n {'row': 60, 'element': 36, 'value': 84, 'rolling_sum': 4235},\n {'row': 61, 'element': 37, 'value': 74, 'rolling_sum': 4309},\n {'row': 62, 'element': 37, 'value': 55, 'rolling_sum': 4364},\n {'row': 63, 'element': 37, 'value': 81, 'rolling_sum': 4445},\n {'row': 64, 'element': 38, 'value': 87, 'rolling_sum': 4532},\n {'row': 65, 'element': 39, 'value': 89, 'rolling_sum': 4621},\n {'row': 66, 'element': 40, 'value': 99, 'rolling_sum': 4720},\n {'row': 67, 'element': 41, 'value': 73, 'rolling_sum': 4793},\n {'row': 68, 'element': 42, 'value': 88, 'rolling_sum': 4881},\n {'row': 69, 'element': 42, 'value': 95, 'rolling_sum': 4976},\n {'row': 70, 'element': 43, 'value': 68, 'rolling_sum': 5044},\n {'row': 71, 'element': 43, 'value': 37, 'rolling_sum': 5081},\n {'row': 72, 'element': 43, 'value': 87, 'rolling_sum': 5168},\n {'row': 73, 'element': 43, 'value': 73, 'rolling_sum': 5241},\n {'row': 74, 'element': 43, 'value': 77, 'rolling_sum': 5318},\n {'row': 75, 'element': 43, 'value': 60, 'rolling_sum': 5378},\n {'row': 76, 'element': 43, 'value': 82, 'rolling_sum': 5460},\n {'row': 77, 'element': 44, 'value': 87, 'rolling_sum': 5547},\n {'row': 78, 'element': 44, 'value': 64, 'rolling_sum': 5611},\n {'row': 79, 'element': 44, 'value': 96, 'rolling_sum': 5707},\n {'row': 80, 'element': 45, 'value': 65, 'rolling_sum': 5772},\n {'row': 81, 'element': 46, 'value': 47, 'rolling_sum': 5819},\n {'row': 82, 'element': 46, 'value': 94, 'rolling_sum': 5913},\n {'row': 83, 'element': 46, 'value': 85, 'rolling_sum': 5998},\n {'row': 84, 'element': 46, 'value': 51, 'rolling_sum': 6049},\n {'row': 85, 'element': 46, 'value': 87, 'rolling_sum': 6136},\n {'row': 86, 'element': 46, 'value': 65, 'rolling_sum': 6201},\n {'row': 87, 'element': 47, 'value': 65, 'rolling_sum': 6266},\n {'row': 88, 'element': 47, 'value': 66, 'rolling_sum': 6332},\n {'row': 89, 'element': 47, 'value': 91, 'rolling_sum': 6423},\n {'row': 90, 'element': 47, 'value': 83, 'rolling_sum': 6506},\n {'row': 91, 'element': 48, 'value': 72, 'rolling_sum': 6578},\n {'row': 92, 'element': 48, 'value': 24, 'rolling_sum': 6602},\n {'row': 93, 'element': 49, 'value': 98, 'rolling_sum': 6700},\n {'row': 94, 'element': 50, 'value': 89, 'rolling_sum': 6789},\n {'row': 95, 'element': 50, 'value': 53, 'rolling_sum': 6842},\n {'row': 96, 'element': 51, 'value': 82, 'rolling_sum': 6924},\n {'row': 97, 'element': 52, 'value': 57, 'rolling_sum': 6981},\n {'row': 98, 'element': 53, 'value': 99, 'rolling_sum': 7080},\n {'row': 99, 'element': 53, 'value': 98, 'rolling_sum': 7178},\n {'row': 100, 'element': 54, 'value': 95, 'rolling_sum': 7273}]"
          },
          "metadata": {}
        }
      ]
    }
  ],
  "metadata": {
    "kernelspec": {
      "name": "python36",
      "display_name": "Python 3.6",
      "language": "python"
    },
    "language_info": {
      "mimetype": "text/x-python",
      "nbconvert_exporter": "python",
      "name": "python",
      "pygments_lexer": "ipython3",
      "version": "3.6.6",
      "file_extension": ".py",
      "codemirror_mode": {
        "version": 3,
        "name": "ipython"
      }
    }
  },
  "nbformat": 4,
  "nbformat_minor": 2
}