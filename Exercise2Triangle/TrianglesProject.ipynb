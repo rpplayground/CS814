{
  "cells": [
    {
      "metadata": {
        "collapsed": true,
        "trusted": false
      },
      "cell_type": "markdown",
      "source": "# Strathclyde University\n# CS814 - Artificial Intellgience For Autonomous Systems\n# Lab 1 - Thursday 26th September 2019\n# Exercise 2 : The Great Python Triangle Challenge of 2019\n## Problem Description\nBy starting at the top of the triangle, and moving to adjacent numbers in the row below, find:\n- the maximum sum from the top to the bottom;\n- the path through the triangle that generates that maximum sum.\n\n## Cautions\nIt is not possible to apply a brute for approach to this problem: the number of possible routes from top to bottom of the triangle is:\n\n\\begin{equation*}2^{(n-1)}\\end{equation*}\n\nWhere n is the depth of the triangle.\n\n## My Solution\nAfter some false starts, I settled on a \"bottom up\" approach.  Can't quite explain my logic, but it intuitively seemed the right approach.\nThe key function I've written is called X"
    },
    {
      "metadata": {
        "trusted": true
      },
      "cell_type": "code",
      "source": "# Import the functions that I've written\nfrom TriangleFunctions import *",
      "execution_count": 1,
      "outputs": []
    },
    {
      "metadata": {},
      "cell_type": "markdown",
      "source": "## Load The Data\nThe first step is to load the source triangle from file.  We'll start with a triangle of depth of 15 as it's easier to visualise and check the algorithm working.\nLater we'll scale up to a triangle with a depth of 100!"
    },
    {
      "metadata": {
        "trusted": true
      },
      "cell_type": "code",
      "source": "triangle_list_from_file = read_triangle_from_file(\"./\",\"triangle_numbers_1.txt\")",
      "execution_count": 2,
      "outputs": []
    },
    {
      "metadata": {
        "trusted": true
      },
      "cell_type": "markdown",
      "source": "## Inspect The Data\nNow we will print the triangle so we can take a look at it."
    },
    {
      "metadata": {
        "trusted": true
      },
      "cell_type": "code",
      "source": "print_triangle(triangle_list_from_file, False, False)",
      "execution_count": 3,
      "outputs": [
        {
          "output_type": "stream",
          "text": "Maximum value found: 99  depth:  15\n                            75  \n                          95  64  \n                        17  47  82  \n                      18  35  87  10  \n                    20  04  82  47  65  \n                  19  01  23  75  03  34  \n                88  02  77  73  07  63  67  \n              99  65  04  28  06  16  70  92  \n            41  41  26  56  83  40  80  70  33  \n          41  48  72  33  47  32  37  16  94  29  \n        53  71  44  65  25  43  91  52  97  51  14  \n      70  11  33  28  77  73  17  78  39  68  17  57  \n    91  71  52  38  17  14  91  43  58  50  27  29  48  \n  63  66  04  68  89  53  67  30  73  16  69  87  40  31  \n04  62  98  27  23  09  70  98  73  93  38  53  60  04  23  \n",
          "name": "stdout"
        }
      ]
    },
    {
      "metadata": {
        "trusted": true
      },
      "cell_type": "markdown",
      "source": "## Using Example Above To Describe Approach\nIt's useful to use the triangle above as a working example to illustrate the approach I've taken to writing this algorithm.  This triangle has a \"depth\" of 15.\nEach element in the triangle has a coordinate (m, n) where:\n- m : is the row in the triangle, with row 1 being the top and the bottom row being equal to the depth of the triangle;\n- n : is the position in the row, where the maximum n can take in any row is m.\n\nSo the approach I've take to solving this challenge is to work from the bottom to the top of the triangle and I start the process on the penultimate row - ie where:\n\n\\begin{equation*}m = depth - 1\\end{equation*}\n\nI start with the element at coordinate (14, 1) which has a value of 63 and follow this logic:\n- I pick the maximum value from two adjacent cells in the row below - ie (15, 1) and (15, 2), values 04 and 62 respectively, so 62;\n- I add this to the value in element to create a rolling sum of 125 and I record that into a \"rolled up sum\" triangle;\n- I also record the fact that I chose element 2 from the row below (rather than element 1) into \"solution triangle\";\nI repeat the process above for the next element in the row (14, 2) and so on.\nAt the end of the row, move onto the row above, starting with element (13, 1):\n- When I look at the maximum value from the adjacent values in the row below, I reference the \"rolled up sum\" value for those elements so that I'm carrying the rolled up sum from the bottom to the top of the triangle.\n- At the same time, I'm also recording the element from the row below that was used to create maxium value to keep building the \"solution triangle\".\n\nLet's run the process:"
    },
    {
      "metadata": {
        "trusted": true
      },
      "cell_type": "code",
      "source": "rolled_up_sum_triangle, solution_triangle, max_sum = roll_up_triangle_from_bottom(triangle_list_from_file)",
      "execution_count": 4,
      "outputs": []
    },
    {
      "metadata": {
        "trusted": true
      },
      "cell_type": "code",
      "source": "print_triangle(rolled_up_sum_triangle, False, False)",
      "execution_count": 5,
      "outputs": [
        {
          "output_type": "stream",
          "text": "Maximum value found: 1074  depth:  15\n                                          1074  \n                                       0995  0999  \n                                    0818  0900  0935  \n                                 0704  0801  0853  0792  \n                              0686  0640  0766  0731  0782  \n                           0666  0614  0636  0684  0660  0717  \n                        0647  0501  0613  0609  0533  0657  0683  \n                     0559  0499  0479  0536  0514  0526  0594  0616  \n                  0460  0434  0419  0475  0508  0470  0510  0524  0487  \n               0419  0365  0393  0387  0419  0425  0430  0376  0454  0322  \n            0378  0317  0231  0321  0354  0372  0393  0354  0360  0293  0247  \n         0325  0246  0187  0178  0256  0329  0273  0302  0263  0242  0193  0233  \n      0255  0235  0154  0150  0140  0179  0256  0209  0224  0172  0174  0176  0148  \n   0125  0164  0102  0095  0112  0123  0165  0128  0166  0109  0122  0147  0100  0054  \n0004  0062  0098  0027  0023  0009  0070  0098  0073  0093  0038  0053  0060  0004  0023  \n",
          "name": "stdout"
        }
      ]
    },
    {
      "metadata": {
        "trusted": true
      },
      "cell_type": "code",
      "source": "print_triangle(solution_triangle, False, False)",
      "execution_count": 6,
      "outputs": [
        {
          "output_type": "stream",
          "text": "Maximum value found: 14  depth:  15\n                            01  \n                          01  02  \n                        01  02  02  \n                      00  02  02  04  \n                    00  02  03  03  05  \n                  00  02  02  03  05  06  \n                00  01  03  03  05  06  07  \n              00  01  03  04  04  06  07  07  \n            00  02  02  04  05  06  06  08  08  \n          00  01  03  04  05  06  06  08  08  09  \n        00  01  02  04  05  05  07  07  08  09  11  \n      00  01  02  03  05  06  06  08  08  10  11  11  \n    01  01  02  04  05  06  06  08  08  10  11  11  12  \n  01  02  02  03  04  06  07  07  09  09  11  12  12  14  \n00  00  00  00  00  00  00  00  00  00  00  00  00  00  00  \n",
          "name": "stdout"
        }
      ]
    },
    {
      "metadata": {},
      "cell_type": "markdown",
      "source": "## Decoding the Solution Triangle\nSo the next step is to decode the solution triangle above into a set of steps through the triangle that create the maximum sum from top to bottom.\n\nLet's run this process:"
    },
    {
      "metadata": {
        "trusted": true
      },
      "cell_type": "code",
      "source": "solution_path, source_triangle_masked = build_solution(triangle_list_from_file, solution_triangle)",
      "execution_count": 7,
      "outputs": []
    },
    {
      "metadata": {
        "trusted": true
      },
      "cell_type": "code",
      "source": "solution_path",
      "execution_count": 8,
      "outputs": [
        {
          "output_type": "execute_result",
          "execution_count": 8,
          "data": {
            "text/plain": "[{'row': 1, 'element': 1, 'value': 75, 'rolling_sum': 75},\n {'row': 2, 'element': 2, 'value': 64, 'rolling_sum': 139},\n {'row': 3, 'element': 3, 'value': 82, 'rolling_sum': 221},\n {'row': 4, 'element': 3, 'value': 87, 'rolling_sum': 308},\n {'row': 5, 'element': 3, 'value': 82, 'rolling_sum': 390},\n {'row': 6, 'element': 4, 'value': 75, 'rolling_sum': 465},\n {'row': 7, 'element': 4, 'value': 73, 'rolling_sum': 538},\n {'row': 8, 'element': 4, 'value': 28, 'rolling_sum': 566},\n {'row': 9, 'element': 5, 'value': 83, 'rolling_sum': 649},\n {'row': 10, 'element': 6, 'value': 32, 'rolling_sum': 681},\n {'row': 11, 'element': 7, 'value': 91, 'rolling_sum': 772},\n {'row': 12, 'element': 8, 'value': 78, 'rolling_sum': 850},\n {'row': 13, 'element': 9, 'value': 58, 'rolling_sum': 908},\n {'row': 14, 'element': 9, 'value': 73, 'rolling_sum': 981},\n {'row': 15, 'element': 10, 'value': 93, 'rolling_sum': 1074}]"
          },
          "metadata": {}
        }
      ]
    },
    {
      "metadata": {},
      "cell_type": "markdown",
      "source": "## Visualising the Solution\nThe \"build_solution\" function above also creates a masked version of the source triangle to help visualise the solution.\n\nLet's look at this:"
    },
    {
      "metadata": {
        "trusted": true
      },
      "cell_type": "code",
      "source": "print_triangle(source_triangle_masked, False, True)",
      "execution_count": 9,
      "outputs": [
        {
          "output_type": "stream",
          "text": "Maximum value found: 93  depth:  15\n                            75  \n                          []  64  \n                        []  []  82  \n                      []  []  87  []  \n                    []  []  82  []  []  \n                  []  []  []  75  []  []  \n                []  []  []  73  []  []  []  \n              []  []  []  28  []  []  []  []  \n            []  []  []  []  83  []  []  []  []  \n          []  []  []  []  []  32  []  []  []  []  \n        []  []  []  []  []  []  91  []  []  []  []  \n      []  []  []  []  []  []  []  78  []  []  []  []  \n    []  []  []  []  []  []  []  []  58  []  []  []  []  \n  []  []  []  []  []  []  []  []  73  []  []  []  []  []  \n[]  []  []  []  []  []  []  []  []  93  []  []  []  []  []  \n",
          "name": "stdout"
        }
      ]
    }
  ],
  "metadata": {
    "kernelspec": {
      "name": "python36",
      "display_name": "Python 3.6",
      "language": "python"
    },
    "language_info": {
      "mimetype": "text/x-python",
      "nbconvert_exporter": "python",
      "name": "python",
      "pygments_lexer": "ipython3",
      "version": "3.6.6",
      "file_extension": ".py",
      "codemirror_mode": {
        "version": 3,
        "name": "ipython"
      }
    }
  },
  "nbformat": 4,
  "nbformat_minor": 2
}